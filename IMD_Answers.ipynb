{
  "nbformat": 4,
  "nbformat_minor": 0,
  "metadata": {
    "colab": {
      "name": "IMD_Answers.ipynb",
      "provenance": [],
      "authorship_tag": "ABX9TyMztKogP12E5uFA9CK3rXSx",
      "include_colab_link": true
    },
    "kernelspec": {
      "name": "python3",
      "display_name": "Python 3"
    },
    "language_info": {
      "name": "python"
    }
  },
  "cells": [
    {
      "cell_type": "markdown",
      "metadata": {
        "id": "view-in-github",
        "colab_type": "text"
      },
      "source": [
        "<a href=\"https://colab.research.google.com/github/Gaurav1401/IMD_evaluation/blob/main/IMD_Answers.ipynb\" target=\"_parent\"><img src=\"https://colab.research.google.com/assets/colab-badge.svg\" alt=\"Open In Colab\"/></a>"
      ]
    },
    {
      "cell_type": "code",
      "source": [
        "import warnings as wg\n",
        "wg.filterwarnings(\"ignore\")\n",
        "\n",
        "import random\n",
        "import numpy as np\n",
        "from sklearn.linear_model import LinearRegression\n",
        "from sklearn.metrics import mean_squared_error, mean_absolute_error\n",
        "import matplotlib.pyplot as plt\n",
        "from scipy import fftpack"
      ],
      "metadata": {
        "id": "7jYecvPDnWh8"
      },
      "execution_count": 24,
      "outputs": []
    },
    {
      "cell_type": "markdown",
      "source": [
        "### **Generate a random linked list of n nodes, whose property is defined in such a way that the value of every node is a perfect square less than k^3 for any number k<=n.**"
      ],
      "metadata": {
        "id": "qgMTRigolUYw"
      }
    },
    {
      "cell_type": "code",
      "execution_count": 25,
      "metadata": {
        "id": "_4LoGCOPlGcW"
      },
      "outputs": [],
      "source": [
        "class Node:\n",
        "  def __init__(self, info, link = None):\n",
        "    self.info = info\n",
        "    self.link = link"
      ]
    },
    {
      "cell_type": "code",
      "source": [
        "class LinkedList:\n",
        "  def __init__(self):\n",
        "    self.head = None\n",
        "\n",
        "\n",
        "  def insert_at_end(self, n, k):\n",
        "    if k <= n and n>=1:\n",
        "      i = 0\n",
        "      x = random.randint(0, n)\n",
        "      if x**2 < k**3:\n",
        "        self.head = Node(x**2)\n",
        "        num = 1 #1 node has been created\n",
        "        while num < n:\n",
        "          x = random.randint(0,n)\n",
        "          if x**2 < k**3: \n",
        "            current = self.head\n",
        "            while current.link != None:\n",
        "              current = current.link\n",
        "            current.link = Node(x**2)\n",
        "            num += 1\n",
        "          else:\n",
        "            x = random.randint(0,n)\n",
        "      else:\n",
        "        x = random.randint(0,n)\n",
        "\n",
        "    else:\n",
        "      print(\"Enter correct values\")\n",
        "\n",
        "  def display(self):\n",
        "      current = self.head\n",
        "      while current != None:\n",
        "          print(current.info, end = \" \")\n",
        "          current = current.link"
      ],
      "metadata": {
        "id": "OoCFdw0RlbFF"
      },
      "execution_count": 26,
      "outputs": []
    },
    {
      "cell_type": "markdown",
      "source": [
        "Time Complexity :- O(n^2)<br>\n",
        "Space Complexity :- O(1)"
      ],
      "metadata": {
        "id": "0O8Xy43blgye"
      }
    },
    {
      "cell_type": "code",
      "source": [
        "ll = LinkedList()\n",
        "\n",
        "ll.insert_at_end(10,5)\n",
        "ll.display()"
      ],
      "metadata": {
        "colab": {
          "base_uri": "https://localhost:8080/"
        },
        "id": "12F7maw3ldsI",
        "outputId": "ee555f8b-8f45-410a-99f3-76c7ab1050c4"
      },
      "execution_count": 27,
      "outputs": [
        {
          "output_type": "stream",
          "name": "stdout",
          "text": [
            "4 4 16 9 100 4 0 49 16 81 "
          ]
        }
      ]
    },
    {
      "cell_type": "markdown",
      "source": [
        "### **Write a function/ method to print a mirror image of a binary tree in a recursive manner considering the input parameter to be root node.**"
      ],
      "metadata": {
        "id": "x0F2RshWlsaz"
      }
    },
    {
      "cell_type": "code",
      "source": [
        "class Node:\n",
        "  def __init__(self,info):\n",
        "    self.left = None\n",
        "    self.info = info\n",
        "    self.right = None"
      ],
      "metadata": {
        "id": "4RqutJqwljE6"
      },
      "execution_count": 28,
      "outputs": []
    },
    {
      "cell_type": "code",
      "source": [
        "class BST:\n",
        "  def buildBST(self, root, ele):\n",
        "    if root == None:\n",
        "      return Node(ele)\n",
        "\n",
        "    if ele < root.info:\n",
        "      root.left = self.buildBST(root.left, ele)\n",
        "    else:\n",
        "      root.right = self.buildBST(root.right, ele)\n",
        "\n",
        "    return root\n",
        "\n",
        "  def mirror(self, root):\n",
        "    if root == None:\n",
        "      return\n",
        "\n",
        "    temp = root\n",
        "    self.mirror(root.left)\n",
        "    self.mirror(root.right)\n",
        "\n",
        "    temp = root.left\n",
        "    root.left = root.right\n",
        "    root.right = temp\n",
        "\n",
        "  \n",
        "  def inorder(self, root):\n",
        "    if root == None:\n",
        "      return\n",
        "\n",
        "    self.inorder(root.left)\n",
        "    print(root.info)\n",
        "    self.inorder(root.right)\n",
        "\n",
        "root = None\n",
        "b = BST()\n",
        "for ele in [10, 5, 25, 2, 7, 30]:\n",
        "    root = b.buildBST(root, ele)\n",
        "\n",
        "b.inorder(root)\n",
        "b.mirror(root)\n",
        "print()\n",
        "b.inorder(root)"
      ],
      "metadata": {
        "colab": {
          "base_uri": "https://localhost:8080/"
        },
        "id": "a8e2a-MplxkD",
        "outputId": "ef0bef6c-0168-4c77-bde7-41765afc8269"
      },
      "execution_count": 29,
      "outputs": [
        {
          "output_type": "stream",
          "name": "stdout",
          "text": [
            "2\n",
            "5\n",
            "7\n",
            "10\n",
            "25\n",
            "30\n",
            "\n",
            "30\n",
            "25\n",
            "10\n",
            "7\n",
            "5\n",
            "2\n"
          ]
        }
      ]
    },
    {
      "cell_type": "markdown",
      "source": [
        "Time Complexity:- O(n)<br>\n",
        "Space Complexity:- O(1)"
      ],
      "metadata": {
        "id": "Y9raeD7AwFMG"
      }
    },
    {
      "cell_type": "markdown",
      "source": [
        "### **Linear Regression**\n",
        "Consider the following series of 2 parameters x and y<br>\n",
        "     X: 0,1,3,5,6,4,2,1,-1,-5,9,7,11,12,13<br>\n",
        "     Y: 1,3,9,21,10,11,-7,8,9,11,13,15,16,31,33\n",
        "\n",
        "Find the linear regression equation for y and x considering x as an independent parameter. Calculate error and bias parts in the regression relation."
      ],
      "metadata": {
        "id": "BMjWMmp2mEwL"
      }
    },
    {
      "cell_type": "code",
      "source": [
        "\n",
        "x = np.array([0,1,3,5,6,4,2,1,-1,-5,9,7,11,12,13])\n",
        "y = np.array([1,3,9,21,10,11,-7,8,9,11,13,15,16,31,33])\n",
        "\n",
        "x = x.reshape(-1,1)\n",
        "\n",
        "model = LinearRegression()\n",
        "model.fit(x,y)\n",
        "print(model.coef_)\n",
        "print(model.intercept_)"
      ],
      "metadata": {
        "colab": {
          "base_uri": "https://localhost:8080/"
        },
        "id": "BEiP014bl0ct",
        "outputId": "8dfa6236-ad53-4ba5-c8d2-2e522a11849b"
      },
      "execution_count": 30,
      "outputs": [
        {
          "output_type": "stream",
          "name": "stdout",
          "text": [
            "[1.4284695]\n",
            "5.790938280413843\n"
          ]
        }
      ]
    },
    {
      "cell_type": "markdown",
      "source": [
        "**Equation of line is given by:** $$ y\\ =\\ 1.43x\\ +\\ 5.79$$"
      ],
      "metadata": {
        "id": "AXbfo2wenos5"
      }
    },
    {
      "cell_type": "code",
      "source": [
        "def RMSE(y_true, y_predict):\n",
        "  return np.sqrt(mean_squared_error(y_true, y_predict))"
      ],
      "metadata": {
        "id": "2WAyGOAymbh2"
      },
      "execution_count": 31,
      "outputs": []
    },
    {
      "cell_type": "markdown",
      "source": [
        "**Bias is defined as the average difference between predicted values and true values**"
      ],
      "metadata": {
        "id": "fp-HbCVWmkB2"
      }
    },
    {
      "cell_type": "code",
      "source": [
        "mean_absolute_error(y, model.predict(x))"
      ],
      "metadata": {
        "colab": {
          "base_uri": "https://localhost:8080/"
        },
        "id": "N71Cd0UTmjbD",
        "outputId": "9275b7ef-7c49-4950-9eb4-1ec81bb0ea4c"
      },
      "execution_count": 32,
      "outputs": [
        {
          "output_type": "execute_result",
          "data": {
            "text/plain": [
              "5.672351052443811"
            ]
          },
          "metadata": {},
          "execution_count": 32
        }
      ]
    },
    {
      "cell_type": "markdown",
      "source": [
        "### **Primary Wavelength**\n",
        "\n",
        "Consider the following time-series recorded at continuous time-stamps/ units<br>\n",
        "X: 1,3,9,21,10,11,-7,8,9,11,13,15,16,31,33\n",
        "\n",
        "Find the maximum repetition interval in time units i.e. primary wavelength."
      ],
      "metadata": {
        "id": "MIYQ3dGOmzo2"
      }
    },
    {
      "cell_type": "code",
      "source": [
        "series = [1,3,9,21,10,11,-7,8,9,11,13,15,16,31,33]\n",
        "\n",
        "timeseries = np.arange(\"2022-01-01\", \"2022-01-16\", dtype = \"datetime64[D]\")\n",
        "plt.plot(timeseries, series)\n",
        "plt.xticks(rotation = 45)\n",
        "plt.show()"
      ],
      "metadata": {
        "colab": {
          "base_uri": "https://localhost:8080/",
          "height": 307
        },
        "id": "_W3s8vbymoah",
        "outputId": "45edab16-c2fd-405c-a9ec-54aa5897b74d"
      },
      "execution_count": 33,
      "outputs": [
        {
          "output_type": "display_data",
          "data": {
            "image/png": "[encoded data removed]",
            "text/plain": [
              "<Figure size 432x288 with 1 Axes>"
            ]
          },
          "metadata": {
            "needs_background": "light"
          }
        }
      ]
    },
    {
      "cell_type": "code",
      "source": [
        "f_s = 100\n",
        "X = fftpack.fft(series)\n",
        "freqs = fftpack.fftfreq(len(x)) * f_s\n",
        "\n",
        "fig, ax = plt.subplots()\n",
        "\n",
        "ax.stem(freqs, np.abs(X))\n",
        "ax.set_xlabel('Frequency in Hertz [Hz]')\n",
        "ax.set_ylabel('Frequency Domain (Spectrum) Magnitude')\n",
        "plt.show()"
      ],
      "metadata": {
        "colab": {
          "base_uri": "https://localhost:8080/",
          "height": 296
        },
        "id": "rTUY8UCjnKQ8",
        "outputId": "76da6cb2-b976-434b-b406-3ad3a6e7eddf"
      },
      "execution_count": 34,
      "outputs": [
        {
          "output_type": "execute_result",
          "data": {
            "text/plain": [
              "Text(0, 0.5, 'Frequency Domain (Spectrum) Magnitude')"
            ]
          },
          "metadata": {},
          "execution_count": 34
        },
        {
          "output_type": "display_data",
          "data": {
            "image/png": "[encoded data removed]",
            "text/plain": [
              "<Figure size 432x288 with 1 Axes>"
            ]
          },
          "metadata": {
            "needs_background": "light"
          }
        }
      ]
    },
    {
      "cell_type": "code",
      "source": [
        "w = np.fft.fft(series)\n",
        "print(np.absolute(w))"
      ],
      "metadata": {
        "colab": {
          "base_uri": "https://localhost:8080/"
        },
        "id": "fUE9Ltjpqx30",
        "outputId": "2d1e6c73-61c4-4dfc-a3cf-84bdc7181174"
      },
      "execution_count": 35,
      "outputs": [
        {
          "output_type": "stream",
          "name": "stdout",
          "text": [
            "[184.          55.84954695  35.53646919  65.17690166  25.22211482\n",
            "  30.8058436    1.99285959  33.35914247  33.35914247   1.99285959\n",
            "  30.8058436   25.22211482  65.17690166  35.53646919  55.84954695]\n"
          ]
        }
      ]
    },
    {
      "cell_type": "markdown",
      "source": [
        "**Leaving the fist value, the largest value is at index 3, hence the signal repeats itself 3 times, Hence the length of the signal -- the period -- would be 15/3 = 5.**"
      ],
      "metadata": {
        "id": "8Hwyh65-sRON"
      }
    },
    {
      "cell_type": "code",
      "source": [
        "np.fft.fftfreq(15)"
      ],
      "metadata": {
        "colab": {
          "base_uri": "https://localhost:8080/"
        },
        "id": "3sdplQtKq6Ay",
        "outputId": "c2f01fd1-7e28-4d06-a7be-5c5ef2352e9d"
      },
      "execution_count": 36,
      "outputs": [
        {
          "output_type": "execute_result",
          "data": {
            "text/plain": [
              "array([ 0.        ,  0.06666667,  0.13333333,  0.2       ,  0.26666667,\n",
              "        0.33333333,  0.4       ,  0.46666667, -0.46666667, -0.4       ,\n",
              "       -0.33333333, -0.26666667, -0.2       , -0.13333333, -0.06666667])"
            ]
          },
          "metadata": {},
          "execution_count": 36
        }
      ]
    },
    {
      "cell_type": "markdown",
      "source": [
        "**The frequency at index 3 is 1/5, i.e. the frequency for one time unit is 1/5, meaning the signal takes five time units for a full period.**"
      ],
      "metadata": {
        "id": "-0tfM5Fjt_mO"
      }
    }
  ]
}